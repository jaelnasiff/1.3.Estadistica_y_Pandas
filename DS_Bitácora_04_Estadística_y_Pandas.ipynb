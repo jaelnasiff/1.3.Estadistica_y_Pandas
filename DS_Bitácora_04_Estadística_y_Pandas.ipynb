{
 "cells": [
  {
   "cell_type": "markdown",
   "metadata": {
    "id": "U8zyY9Zz1Py3"
   },
   "source": [
    "# Estadística Descriptiva y Pandas\n",
    "\n",
    "El objetivo del siguiente notebook es, además de repasar conceptos de estadística, que sigas aprendiendo a operar con Numpy y que, además, incorpores Pandas a tu caja de herramientas.\n",
    "\n",
    "## 1. Estadística Descriptiva\n",
    "\n",
    "La Estadística Descriptiva nos sirve para comenzar a analizar y entender un conjunto de datos. En el caso de datos numéricos, lo hace obteniendo *valores estadísticos* que, de alguna forma, reemplazan a nuestros datos. Por ejemplo, es muy difícil leer y *entender* la edad de 1000 personas. Pero con un grupo reducido de valores estadísticos (mínimo, máximo, media y desviación estándar, etc.) podemos aproximarnos a ese conjunto de una manera mucho más comprensible. Veamos dos medidas muy importantes:\n",
    "\n",
    "**Promedio**\n",
    "\n",
    "Dados $n$ números $x_1,x_2,...,x_n$, el promedio o media es \n",
    "\n",
    "$$\\overline{x} = \\frac{1}{n}\\sum_{i=1}^{n} x_i = \\frac{x_1 + x_2 + ... + x_n}{n}$$\n",
    "\n",
    "**Desviación Estándar**\n",
    "\n",
    "La varianza y la desviación estándar nos dan una idea de cuán \"dispersos\" están los valores con respecto a su promedio.\n",
    "\n",
    "$$ Var = \\frac{\\sum_{i=1}^{n} (x_i -\\overline{x})^2}{n - 1}$$\n",
    "\n",
    "La desviación estándar es la raiz cuadrada de la varianza. En general se usa la letra griega $\\sigma$ para representarla o las siglas $SD$:\n",
    "\n",
    "$$ SD = \\sqrt{\\frac{\\sum_{i=1}^{n} (x_i -\\overline{x})^2}{n - 1}}$$\n",
    "\n",
    "$$ SD = \\sqrt{Var}$$\n",
    "\n",
    "\n",
    "**Comentarios**:\n",
    "1. Dado un conjunto de números, el promedio suele ser considerado el número más representativo de ese conjunto. Esto no siempre es así. Pensá o googleá por qué.\n",
    "2. Al conjunto de números $x_1,...,x_n$ los pueden encontrar por el nombre de *población* o *muestra* (¡Ojo que no estamos diciendo que *población* y *muestra* sean lo mismo!).\n",
    "\n",
    "### Challenge:\n",
    "\n",
    "Vamos a utilizar de excusa la estadística descriptiva para hacer un desafío de programación:\n",
    "\n",
    "Dadas la siguiente lista de números, escribir una rutina que calcule su promedio, su varianza y desviación estándar. **Pistas:**\n",
    "* Probablemente te sea muy útil usar lo que hiciste para ejercicios anteriores.\n",
    "* Para calcular la varianza y la desviación estándar, usa el resultado que obtuviste al calcular el promedio."
   ]
  },
  {
   "cell_type": "code",
   "execution_count": 3,
   "metadata": {
    "id": "lqCdXnSP1PzC"
   },
   "outputs": [
    {
     "name": "stdout",
     "output_type": "stream",
     "text": [
      "2.3333333333333335\n"
     ]
    }
   ],
   "source": [
    "x_s = [1,2,3,1,2,2,3,4,1,2,3,4,1,2,4]\n",
    "# COMPLETAR\n",
    "\n",
    "promedio= sum(x_s)/len(x_s)\n",
    "print(promedio)\n"
   ]
  },
  {
   "cell_type": "code",
   "execution_count": 4,
   "metadata": {},
   "outputs": [
    {
     "name": "stdout",
     "output_type": "stream",
     "text": [
      "2.3333333333333335\n",
      "2.3333333333333335\n"
     ]
    }
   ],
   "source": [
    "#SOLUCION PROPUESTA ACAMICA\n",
    "\n",
    "x_s = [1,2,3,1,2,2,3,4,1,2,3,4,1,2,4] #defino un vector\n",
    "\n",
    "n = len(x_s) #solicito la longitud\n",
    "mean = 0 #variable en la cual voy a guardar la suma de las observaciones\n",
    "for x in x_s:\n",
    "    mean +=x # equivalente a mean = mean + x ### con este bucle sume el valor de cada elemento del arreglo\n",
    "mean/=n #equivalente a mean = mean/n #### divido por el numero de observaciones -------> n\n",
    "print(mean)\n",
    "\n",
    "### una formula mas facil\n",
    "\n",
    "mean= sum(x_s)/len(x_s)\n",
    "print(mean)"
   ]
  },
  {
   "cell_type": "code",
   "execution_count": 6,
   "metadata": {
    "id": "PosCOxzC1Pzl"
   },
   "outputs": [
    {
     "name": "stdout",
     "output_type": "stream",
     "text": [
      "1.2380952380952384\n",
      "1.1126972805283737\n"
     ]
    }
   ],
   "source": [
    "# COMPLETAR\n",
    "n = len(x_s)\n",
    "var=0    #acumulador\n",
    "for x in x_s:\n",
    "    var+=(x-mean)**2 ##calculo del primer componente de la varianza == var+= (x-mean)**2\n",
    "var/= n-1\n",
    "std = var**(1/2)\n",
    "\n",
    "print(var)\n",
    "print(std)"
   ]
  },
  {
   "cell_type": "markdown",
   "metadata": {
    "id": "uMmPPSpQ1Pz9"
   },
   "source": [
    "¿Cómo te fue con el Challenge? Si no pudiste resolverlo, no te preocupes. ¡NumPy tiene funciones ya incorporadas que calcula algunos estadísticos sobre un arreglo!\n",
    "\n",
    "### 1.2 Estadística con NumPy\n",
    "\n",
    "Veamos cómo se calculan, en NumPy, el promedio, varianza y desviación estándar sobre un arreglo."
   ]
  },
  {
   "cell_type": "code",
   "execution_count": 9,
   "metadata": {
    "id": "nyJsUM4j1P0C"
   },
   "outputs": [
    {
     "name": "stdout",
     "output_type": "stream",
     "text": [
      "2.3333333333333335\n",
      "1.238095238095238\n",
      "1.1126972805283735\n"
     ]
    }
   ],
   "source": [
    "import numpy as np\n",
    "\n",
    "x_s = np.array([1,2,3,1,2,2,3,4,1,2,3,4,1,2,4])\n",
    "\n",
    "# Promedio\n",
    "print(x_s.mean()) ##invoco a la funcion mean()\n",
    "\n",
    "# Varianza\n",
    "print(x_s.var(ddof = 1)) ##con el parametro ddof=1 calculo la varianza de la muestra, con 0 en caso contrario trae el del la poblacion\n",
    "\n",
    "# Desviación estándar\n",
    "print(x_s.std(ddof = 1)) ##con el parametro ddof=1 calculo el desio estandar de la muestra\n",
    "\n",
    "### cuando el desvio standar de la muestra es parecido que al de la poblacion quiere decir q la muestra q estoy romando es representativa a la de la poblacion"
   ]
  },
  {
   "cell_type": "markdown",
   "metadata": {
    "id": "NuADSmLC1P0S"
   },
   "source": [
    "**Para investigar**: ¿qué es el parámetro `ddof` de esa función?¿Qué pasa si no lo usas? Esta pregunta es **difícil** y requiere cierto conocimiento previo. Pero intenta, de todas formas, averiguarlo.\n",
    "\n",
    "NumPy también puede calcular percentilos (¡googlear!), cuantilos, mínimos y máximos:"
   ]
  },
  {
   "cell_type": "code",
   "execution_count": 2,
   "metadata": {
    "id": "BwBr3Gb_1P0Y"
   },
   "outputs": [
    {
     "name": "stdout",
     "output_type": "stream",
     "text": [
      "3.0\n",
      "2.0\n",
      "1\n",
      "4\n"
     ]
    }
   ],
   "source": [
    "print(np.percentile(x_s,75))\n",
    "print(np.quantile(x_s,0.5))\n",
    "print(np.min(x_s))\n",
    "print(np.max(x_s))"
   ]
  },
  {
   "cell_type": "markdown",
   "metadata": {
    "id": "31cRSU0v1P0n"
   },
   "source": [
    "**Para investigar**: ¿Cuál es la diferencia entre `np.percentile()` y `np.quantile()`?¿Cómo obtendrías los cuartiles a partir de ellos?\n",
    "\n",
    "### 1.3 Generación de muestras al azar\n",
    "\n",
    "Una cosa sumamente útil que podemos hacer con NumPy es generar muestras al azar. Esto no permite simular situaciones. Por ejemplo, las tiradas de dados que aparecen en el GIF de la bitácora. Estas funciones las encontramos dentro del paquete `random` de NumPy, cuya documentación pueden encontrar [aquí](https://docs.scipy.org/doc/numpy-1.15.0/reference/routines.random.html). Veamos cómo lo podemos hacer:"
   ]
  },
  {
   "cell_type": "code",
   "execution_count": 3,
   "metadata": {
    "id": "LveHBaed1P0u"
   },
   "outputs": [
    {
     "name": "stdout",
     "output_type": "stream",
     "text": [
      "[6 4 3 4 5 5 2 1 3 3 5 3 5 1 3]\n",
      "[6 1 1 6 5 5 2 4 1 3 3 4 2 1 1]\n"
     ]
    }
   ],
   "source": [
    "muestras_dado = np.random.randint(1,7, size = 15) ## genero muestras al azar de numeros enteros (randint=num enteros) que van del 1 al 6 con un total de 15 observaciones\n",
    "print(muestras_dado)\n",
    "\n",
    "### También se puede\n",
    "muestras_dado = np.random.choice([1,2,3,4,5,6], size = 15) #la funcion choice() se utiliza para seleccionar elementos al azar\n",
    "print(muestras_dado)"
   ]
  },
  {
   "cell_type": "markdown",
   "metadata": {
    "id": "iw5KJ1sN1P08"
   },
   "source": [
    "### Ejercitación\n",
    "\n",
    "**Ejercicio 1:** ¿Cuál será el promedio de los valores obtenidos al tirar muchas veces un dado?¿Te animás a averiguar - o calcular - cuánto *debería dar* antes de hacerlo? Vamos a tratar de responder esta pregunta **simulando** un dado. Para ello:\n",
    "* Obtener muestras al azar de un dado usando lo que vimos anteriormente.\n",
    "* Calcular su promedio y desviación estándar.\n",
    "\n",
    "¿A partir de qué cantidad de muestras el promedio se \"estabiliza\"?"
   ]
  },
  {
   "cell_type": "code",
   "execution_count": 8,
   "metadata": {
    "id": "x5AP10hv1P1A",
    "scrolled": true
   },
   "outputs": [
    {
     "name": "stdout",
     "output_type": "stream",
     "text": [
      "3.49151\n",
      "2.9172970928709288\n",
      "1.7080096875811124\n"
     ]
    }
   ],
   "source": [
    "# COMPLETAR\n",
    "muestras_dado = np.random.randint(1,7, size = 100000)\n",
    "# Promedio\n",
    "print(muestras_dado.mean())\n",
    "\n",
    "# Varianza\n",
    "print(muestras_dado.var(ddof = 1))\n",
    "\n",
    "# Desviación estándar\n",
    "print(muestras_dado.std(ddof = 1))"
   ]
  },
  {
   "cell_type": "code",
   "execution_count": 8,
   "metadata": {},
   "outputs": [
    {
     "name": "stdout",
     "output_type": "stream",
     "text": [
      "3.500576 1.7081246055905879\n"
     ]
    }
   ],
   "source": [
    "### SOLUCION PROPUESTA ACAMICA\n",
    "N= 1000000\n",
    "muestras_dado = np.random.randint(1,7, size=N) #genero una muestra del 1 a 6 con 1000000 de observaciones\n",
    "print(muestras_dado.mean(), muestras_dado.std())"
   ]
  },
  {
   "cell_type": "markdown",
   "metadata": {
    "id": "YBg5eGbD1P1P"
   },
   "source": [
    "**Ejercicio 2:** Simular un dado cargado para favorecer un valor de su elección. Por ejemplo, el seis. Para ello, consultar la ayuda de la función `np.random.choice`. ¿Cómo se modifica el promedio y la desviación estándar?"
   ]
  },
  {
   "cell_type": "code",
   "execution_count": 9,
   "metadata": {
    "id": "bsRijYBY1P1U"
   },
   "outputs": [
    {
     "name": "stdout",
     "output_type": "stream",
     "text": [
      "4.498\n",
      "3.2553285532855334\n",
      "1.8042529072404272\n"
     ]
    }
   ],
   "source": [
    "# COMPLETAR\n",
    "muestras_dado_cargado = np.random.choice([1,2,3,4,5,6,6,6,6,6], size = 100000)\n",
    "# Promedio\n",
    "print(muestras_dado_cargado.mean())\n",
    "\n",
    "# Varianza\n",
    "print(muestras_dado_cargado.var(ddof = 1))\n",
    "\n",
    "# Desviación estándar\n",
    "print(muestras_dado_cargado.std(ddof = 1))"
   ]
  },
  {
   "cell_type": "markdown",
   "metadata": {
    "id": "E49i11Xa1P1i"
   },
   "source": [
    "## 2. Pandas \n",
    "\n",
    "Pandas es la librería más conocida de Python para manipular y analizar datos. Está montada sobre NumPy, por lo cual muchas funcionalidades son similares. Utilizaremos Pandas para trabajar con datasets estructurados (y bueno, ¡bastante más!). \n",
    "\n",
    "Así como NumPy nos proveé de los *arreglos* y con ellos accedemos a muchas nuevas funcionalidades, Pandas nos provee de los *Data Frames* y las *Series*. Por lejos, el objeto más utilizados es el primero, los Data Frames. \n",
    "\n",
    "\n",
    "En esta sección empezaremos a:\n",
    "\n",
    "1. Familiarizarnos con los Data Frames de Pandas, manipular sus funciones básicas y entender la lógica de las mismas (¡para después googlearlas!).\n",
    "2. Empezar a trabajar con Datasets.\n",
    "\n",
    "**¡Manos a la obra!**\n",
    "\n",
    "### 2.1 Primeros pasos\n",
    "\n",
    "Importamos la librería."
   ]
  },
  {
   "cell_type": "code",
   "execution_count": 1,
   "metadata": {
    "id": "j24h6xmv1P1o"
   },
   "outputs": [],
   "source": [
    "import pandas as pd"
   ]
  },
  {
   "cell_type": "markdown",
   "metadata": {
    "id": "FyLT8HgC1P11"
   },
   "source": [
    "Vamos a crear nuestro propio dataset. Es decir, agarrar a mano los datos poblacionales de http://www.ign.gob.ar/nuestrasactividades/geografia/datosargentina/divisionpolitica y guardarlos en una variable `data_dic`.¿Qué tipo de variable es, desde el punto de vista de la programación?\n",
    "\n",
    "**Nota**: la población está en número de habitantes y la superficie en km2."
   ]
  },
  {
   "cell_type": "code",
   "execution_count": 2,
   "metadata": {
    "id": "WQq6LK041P17"
   },
   "outputs": [],
   "source": [
    "data_dic = {\"Jurisdiccion\":[\"CABA\",\"Buenos Aires\",\"Catamarca\",\"Chaco\",\"Chubut\",\"Córdoba\",\"Jujuy\",\"Mendoza\",\"Misiones\",\"Río Negro\",\"Santa Cruz\",\n",
    "                           \"Santa Fe\"],\"Poblacion\":[2890151,15625084,367828,1055259,509108,3308876,673307,1738929,\n",
    "                                                   1101593,638645,273964,3194537],\"Superficie\":\n",
    "           [200,307521,102606,99633,509108,165321,53219,148827,29801,203013,243943,133007]}"
   ]
  },
  {
   "cell_type": "markdown",
   "metadata": {
    "id": "rGxjjI1c1P2H"
   },
   "source": [
    "Así como podemos crear arreglos a partir de listas, podemos crear Data Frames a partir de diccionarios."
   ]
  },
  {
   "cell_type": "code",
   "execution_count": 3,
   "metadata": {
    "id": "0SMR3d331P2L"
   },
   "outputs": [
    {
     "data": {
      "text/html": [
       "<div>\n",
       "<style scoped>\n",
       "    .dataframe tbody tr th:only-of-type {\n",
       "        vertical-align: middle;\n",
       "    }\n",
       "\n",
       "    .dataframe tbody tr th {\n",
       "        vertical-align: top;\n",
       "    }\n",
       "\n",
       "    .dataframe thead th {\n",
       "        text-align: right;\n",
       "    }\n",
       "</style>\n",
       "<table border=\"1\" class=\"dataframe\">\n",
       "  <thead>\n",
       "    <tr style=\"text-align: right;\">\n",
       "      <th></th>\n",
       "      <th>Jurisdiccion</th>\n",
       "      <th>Poblacion</th>\n",
       "      <th>Superficie</th>\n",
       "    </tr>\n",
       "  </thead>\n",
       "  <tbody>\n",
       "    <tr>\n",
       "      <th>0</th>\n",
       "      <td>CABA</td>\n",
       "      <td>2890151</td>\n",
       "      <td>200</td>\n",
       "    </tr>\n",
       "    <tr>\n",
       "      <th>1</th>\n",
       "      <td>Buenos Aires</td>\n",
       "      <td>15625084</td>\n",
       "      <td>307521</td>\n",
       "    </tr>\n",
       "    <tr>\n",
       "      <th>2</th>\n",
       "      <td>Catamarca</td>\n",
       "      <td>367828</td>\n",
       "      <td>102606</td>\n",
       "    </tr>\n",
       "    <tr>\n",
       "      <th>3</th>\n",
       "      <td>Chaco</td>\n",
       "      <td>1055259</td>\n",
       "      <td>99633</td>\n",
       "    </tr>\n",
       "    <tr>\n",
       "      <th>4</th>\n",
       "      <td>Chubut</td>\n",
       "      <td>509108</td>\n",
       "      <td>509108</td>\n",
       "    </tr>\n",
       "    <tr>\n",
       "      <th>5</th>\n",
       "      <td>Córdoba</td>\n",
       "      <td>3308876</td>\n",
       "      <td>165321</td>\n",
       "    </tr>\n",
       "    <tr>\n",
       "      <th>6</th>\n",
       "      <td>Jujuy</td>\n",
       "      <td>673307</td>\n",
       "      <td>53219</td>\n",
       "    </tr>\n",
       "    <tr>\n",
       "      <th>7</th>\n",
       "      <td>Mendoza</td>\n",
       "      <td>1738929</td>\n",
       "      <td>148827</td>\n",
       "    </tr>\n",
       "    <tr>\n",
       "      <th>8</th>\n",
       "      <td>Misiones</td>\n",
       "      <td>1101593</td>\n",
       "      <td>29801</td>\n",
       "    </tr>\n",
       "    <tr>\n",
       "      <th>9</th>\n",
       "      <td>Río Negro</td>\n",
       "      <td>638645</td>\n",
       "      <td>203013</td>\n",
       "    </tr>\n",
       "    <tr>\n",
       "      <th>10</th>\n",
       "      <td>Santa Cruz</td>\n",
       "      <td>273964</td>\n",
       "      <td>243943</td>\n",
       "    </tr>\n",
       "    <tr>\n",
       "      <th>11</th>\n",
       "      <td>Santa Fe</td>\n",
       "      <td>3194537</td>\n",
       "      <td>133007</td>\n",
       "    </tr>\n",
       "  </tbody>\n",
       "</table>\n",
       "</div>"
      ],
      "text/plain": [
       "    Jurisdiccion  Poblacion  Superficie\n",
       "0           CABA    2890151         200\n",
       "1   Buenos Aires   15625084      307521\n",
       "2      Catamarca     367828      102606\n",
       "3          Chaco    1055259       99633\n",
       "4         Chubut     509108      509108\n",
       "5        Córdoba    3308876      165321\n",
       "6          Jujuy     673307       53219\n",
       "7        Mendoza    1738929      148827\n",
       "8       Misiones    1101593       29801\n",
       "9      Río Negro     638645      203013\n",
       "10    Santa Cruz     273964      243943\n",
       "11      Santa Fe    3194537      133007"
      ]
     },
     "execution_count": 3,
     "metadata": {},
     "output_type": "execute_result"
    }
   ],
   "source": [
    "# Creamos el DataFrame\n",
    "data_pandas = pd.DataFrame(data_dic)\n",
    "data_pandas"
   ]
  },
  {
   "cell_type": "markdown",
   "metadata": {
    "id": "2UlnyR6O1P2d"
   },
   "source": [
    "**Ejercicio 1:** investigar las funciones que se implementan en la próxima celda. ¿Qué hacen? ¿Para qué piensan que pueden ser útiles?"
   ]
  },
  {
   "cell_type": "code",
   "execution_count": null,
   "metadata": {
    "id": "Y5wTHya41P2i"
   },
   "outputs": [],
   "source": [
    "# data_pandas.head() -----> muestras las primeras filas (top o cabezcera)\n",
    "# data_pandas.tail() -----> seria lo opuesto a 'head', muestra las ultimas filas (tail=cola)\n",
    "# data_pandas.count() ----> devuelve el numero de entradas/registros (filas) por cada columna\n",
    "# data_pandas.shape ----> devuelve la forma de la matriz, ctas filas y ctas columnas\n",
    "#data_pandas.dtypes ---->muestra el tipo de datos de las columnas              "
   ]
  },
  {
   "cell_type": "markdown",
   "metadata": {
    "id": "uozfwkNo1P2w"
   },
   "source": [
    "**Ejercicio 2:** agregar al Dataset la información correspondiente a alguna jurisdicción faltante. Recuerden que, al tratarse de una nueva instancia, corresponde a una fila. Pista: googlear \"add row to pandas dataframe\" o similar. No hay una única forma de hacerlo."
   ]
  },
  {
   "cell_type": "code",
   "execution_count": 7,
   "metadata": {
    "id": "i__cR4Hh1P2z"
   },
   "outputs": [
    {
     "data": {
      "text/plain": [
       "'I said Hey Hey Hey!'"
      ]
     },
     "execution_count": 7,
     "metadata": {},
     "output_type": "execute_result"
    }
   ],
   "source": [
    "# COMPLETAR\n",
    "\"I said \" + (\"Hey \" * 2) + \"Hey!\""
   ]
  },
  {
   "cell_type": "code",
   "execution_count": 4,
   "metadata": {},
   "outputs": [
    {
     "data": {
      "text/html": [
       "<div>\n",
       "<style scoped>\n",
       "    .dataframe tbody tr th:only-of-type {\n",
       "        vertical-align: middle;\n",
       "    }\n",
       "\n",
       "    .dataframe tbody tr th {\n",
       "        vertical-align: top;\n",
       "    }\n",
       "\n",
       "    .dataframe thead th {\n",
       "        text-align: right;\n",
       "    }\n",
       "</style>\n",
       "<table border=\"1\" class=\"dataframe\">\n",
       "  <thead>\n",
       "    <tr style=\"text-align: right;\">\n",
       "      <th></th>\n",
       "      <th>Jurisdiccion</th>\n",
       "      <th>Poblacion</th>\n",
       "      <th>Superficie</th>\n",
       "    </tr>\n",
       "  </thead>\n",
       "  <tbody>\n",
       "    <tr>\n",
       "      <th>0</th>\n",
       "      <td>CABA</td>\n",
       "      <td>2890151</td>\n",
       "      <td>200</td>\n",
       "    </tr>\n",
       "    <tr>\n",
       "      <th>1</th>\n",
       "      <td>Buenos Aires</td>\n",
       "      <td>15625084</td>\n",
       "      <td>307521</td>\n",
       "    </tr>\n",
       "    <tr>\n",
       "      <th>2</th>\n",
       "      <td>Catamarca</td>\n",
       "      <td>367828</td>\n",
       "      <td>102606</td>\n",
       "    </tr>\n",
       "    <tr>\n",
       "      <th>3</th>\n",
       "      <td>Chaco</td>\n",
       "      <td>1055259</td>\n",
       "      <td>99633</td>\n",
       "    </tr>\n",
       "    <tr>\n",
       "      <th>4</th>\n",
       "      <td>Chubut</td>\n",
       "      <td>509108</td>\n",
       "      <td>509108</td>\n",
       "    </tr>\n",
       "    <tr>\n",
       "      <th>5</th>\n",
       "      <td>Córdoba</td>\n",
       "      <td>3308876</td>\n",
       "      <td>165321</td>\n",
       "    </tr>\n",
       "    <tr>\n",
       "      <th>6</th>\n",
       "      <td>Jujuy</td>\n",
       "      <td>673307</td>\n",
       "      <td>53219</td>\n",
       "    </tr>\n",
       "    <tr>\n",
       "      <th>7</th>\n",
       "      <td>Mendoza</td>\n",
       "      <td>1738929</td>\n",
       "      <td>148827</td>\n",
       "    </tr>\n",
       "    <tr>\n",
       "      <th>8</th>\n",
       "      <td>Misiones</td>\n",
       "      <td>1101593</td>\n",
       "      <td>29801</td>\n",
       "    </tr>\n",
       "    <tr>\n",
       "      <th>9</th>\n",
       "      <td>Río Negro</td>\n",
       "      <td>638645</td>\n",
       "      <td>203013</td>\n",
       "    </tr>\n",
       "    <tr>\n",
       "      <th>10</th>\n",
       "      <td>Santa Cruz</td>\n",
       "      <td>273964</td>\n",
       "      <td>243943</td>\n",
       "    </tr>\n",
       "    <tr>\n",
       "      <th>11</th>\n",
       "      <td>Santa Fe</td>\n",
       "      <td>3194537</td>\n",
       "      <td>133007</td>\n",
       "    </tr>\n",
       "    <tr>\n",
       "      <th>12</th>\n",
       "      <td>San Luis</td>\n",
       "      <td>432310</td>\n",
       "      <td>77748</td>\n",
       "    </tr>\n",
       "  </tbody>\n",
       "</table>\n",
       "</div>"
      ],
      "text/plain": [
       "    Jurisdiccion  Poblacion  Superficie\n",
       "0           CABA    2890151         200\n",
       "1   Buenos Aires   15625084      307521\n",
       "2      Catamarca     367828      102606\n",
       "3          Chaco    1055259       99633\n",
       "4         Chubut     509108      509108\n",
       "5        Córdoba    3308876      165321\n",
       "6          Jujuy     673307       53219\n",
       "7        Mendoza    1738929      148827\n",
       "8       Misiones    1101593       29801\n",
       "9      Río Negro     638645      203013\n",
       "10    Santa Cruz     273964      243943\n",
       "11      Santa Fe    3194537      133007\n",
       "12      San Luis     432310       77748"
      ]
     },
     "execution_count": 4,
     "metadata": {},
     "output_type": "execute_result"
    }
   ],
   "source": [
    "### mydataframe = mydataframe.append(new_row, ignore_index=True)\n",
    "\n",
    "nueva_fila= {\"Jurisdiccion\":\"San Luis\",\"Poblacion\":432310,\"Superficie\":\n",
    "           77748}\n",
    "data_pandas = data_pandas.append(nueva_fila, ignore_index=True)\n",
    "data_pandas"
   ]
  },
  {
   "cell_type": "code",
   "execution_count": 5,
   "metadata": {},
   "outputs": [],
   "source": [
    "data_pandas.loc[12] = ['Salta',1214441,155488]"
   ]
  },
  {
   "cell_type": "markdown",
   "metadata": {
    "id": "3XnYJjid1P2_"
   },
   "source": [
    "**Ejercicio 3:** Investigar las funciones columns e index. ¿Qué hacen? ¿Qué tipo de dato es su salida?¿A qué tipo de dato conocido se parecen?"
   ]
  },
  {
   "cell_type": "code",
   "execution_count": null,
   "metadata": {
    "id": "3TypUl1A1P3B"
   },
   "outputs": [],
   "source": [
    "# data_pandas.columns -----> trae el nombre de las columnas\n",
    "# data_pandas.index -----> trae la cantidad elementos inidices empezando por 0 y la frecuencia RangeIndex(start=0, stop=16, step=1)"
   ]
  },
  {
   "cell_type": "markdown",
   "metadata": {
    "id": "EK-iDt4a1P3M"
   },
   "source": [
    "**Ejercicio 4:** ¿Qué hacen las siguientes operaciones?"
   ]
  },
  {
   "cell_type": "code",
   "execution_count": null,
   "metadata": {
    "id": "UAg6Cz5v1P3P"
   },
   "outputs": [],
   "source": [
    " # data_pandas['Jurisdiccion'] ------> trae la columna de jurisdiccion pero no como df sino como series\n",
    "# data_pandas[['Jurisdiccion','Poblacion']] ------> acota las columnas a lo que estoy llamando en los corchetes dentro del df\n",
    "# data_pandas.Jurisdiccion ------> es lo mismo que el primero pero con otra forma de escribirlo y solo se puede utilizar cuando el objeto a llamar no tiene espacions por ejemplo no se podria si seria 'jurisdiccion 1'\n",
    "# 'Poblacion' in data_pandas ------> dice si existe o no existe esa columna"
   ]
  },
  {
   "cell_type": "markdown",
   "metadata": {
    "id": "osTgGkDJ1P3X"
   },
   "source": [
    "**Ejercicio 5:** Agregar una columna al dataframe que corresponda a la densidad de cada jurisdicción. Usar la información que **ya está** en el dataset."
   ]
  },
  {
   "cell_type": "code",
   "execution_count": 6,
   "metadata": {},
   "outputs": [
    {
     "data": {
      "text/html": [
       "<div>\n",
       "<style scoped>\n",
       "    .dataframe tbody tr th:only-of-type {\n",
       "        vertical-align: middle;\n",
       "    }\n",
       "\n",
       "    .dataframe tbody tr th {\n",
       "        vertical-align: top;\n",
       "    }\n",
       "\n",
       "    .dataframe thead th {\n",
       "        text-align: right;\n",
       "    }\n",
       "</style>\n",
       "<table border=\"1\" class=\"dataframe\">\n",
       "  <thead>\n",
       "    <tr style=\"text-align: right;\">\n",
       "      <th></th>\n",
       "      <th>Jurisdiccion</th>\n",
       "      <th>Poblacion</th>\n",
       "      <th>Superficie</th>\n",
       "      <th>Densidad Jurisdiccion</th>\n",
       "    </tr>\n",
       "  </thead>\n",
       "  <tbody>\n",
       "    <tr>\n",
       "      <th>0</th>\n",
       "      <td>CABA</td>\n",
       "      <td>2890151</td>\n",
       "      <td>200</td>\n",
       "      <td>14450.755000</td>\n",
       "    </tr>\n",
       "    <tr>\n",
       "      <th>1</th>\n",
       "      <td>Buenos Aires</td>\n",
       "      <td>15625084</td>\n",
       "      <td>307521</td>\n",
       "      <td>50.809811</td>\n",
       "    </tr>\n",
       "    <tr>\n",
       "      <th>2</th>\n",
       "      <td>Catamarca</td>\n",
       "      <td>367828</td>\n",
       "      <td>102606</td>\n",
       "      <td>3.584859</td>\n",
       "    </tr>\n",
       "    <tr>\n",
       "      <th>3</th>\n",
       "      <td>Chaco</td>\n",
       "      <td>1055259</td>\n",
       "      <td>99633</td>\n",
       "      <td>10.591461</td>\n",
       "    </tr>\n",
       "    <tr>\n",
       "      <th>4</th>\n",
       "      <td>Chubut</td>\n",
       "      <td>509108</td>\n",
       "      <td>509108</td>\n",
       "      <td>1.000000</td>\n",
       "    </tr>\n",
       "    <tr>\n",
       "      <th>5</th>\n",
       "      <td>Córdoba</td>\n",
       "      <td>3308876</td>\n",
       "      <td>165321</td>\n",
       "      <td>20.014856</td>\n",
       "    </tr>\n",
       "    <tr>\n",
       "      <th>6</th>\n",
       "      <td>Jujuy</td>\n",
       "      <td>673307</td>\n",
       "      <td>53219</td>\n",
       "      <td>12.651628</td>\n",
       "    </tr>\n",
       "    <tr>\n",
       "      <th>7</th>\n",
       "      <td>Mendoza</td>\n",
       "      <td>1738929</td>\n",
       "      <td>148827</td>\n",
       "      <td>11.684231</td>\n",
       "    </tr>\n",
       "    <tr>\n",
       "      <th>8</th>\n",
       "      <td>Misiones</td>\n",
       "      <td>1101593</td>\n",
       "      <td>29801</td>\n",
       "      <td>36.964968</td>\n",
       "    </tr>\n",
       "    <tr>\n",
       "      <th>9</th>\n",
       "      <td>Río Negro</td>\n",
       "      <td>638645</td>\n",
       "      <td>203013</td>\n",
       "      <td>3.145833</td>\n",
       "    </tr>\n",
       "    <tr>\n",
       "      <th>10</th>\n",
       "      <td>Santa Cruz</td>\n",
       "      <td>273964</td>\n",
       "      <td>243943</td>\n",
       "      <td>1.123066</td>\n",
       "    </tr>\n",
       "    <tr>\n",
       "      <th>11</th>\n",
       "      <td>Santa Fe</td>\n",
       "      <td>3194537</td>\n",
       "      <td>133007</td>\n",
       "      <td>24.017811</td>\n",
       "    </tr>\n",
       "    <tr>\n",
       "      <th>12</th>\n",
       "      <td>Salta</td>\n",
       "      <td>1214441</td>\n",
       "      <td>155488</td>\n",
       "      <td>7.810513</td>\n",
       "    </tr>\n",
       "  </tbody>\n",
       "</table>\n",
       "</div>"
      ],
      "text/plain": [
       "    Jurisdiccion  Poblacion  Superficie  Densidad Jurisdiccion\n",
       "0           CABA    2890151         200           14450.755000\n",
       "1   Buenos Aires   15625084      307521              50.809811\n",
       "2      Catamarca     367828      102606               3.584859\n",
       "3          Chaco    1055259       99633              10.591461\n",
       "4         Chubut     509108      509108               1.000000\n",
       "5        Córdoba    3308876      165321              20.014856\n",
       "6          Jujuy     673307       53219              12.651628\n",
       "7        Mendoza    1738929      148827              11.684231\n",
       "8       Misiones    1101593       29801              36.964968\n",
       "9      Río Negro     638645      203013               3.145833\n",
       "10    Santa Cruz     273964      243943               1.123066\n",
       "11      Santa Fe    3194537      133007              24.017811\n",
       "12         Salta    1214441      155488               7.810513"
      ]
     },
     "execution_count": 6,
     "metadata": {},
     "output_type": "execute_result"
    }
   ],
   "source": [
    "data_pandas['Densidad Jurisdiccion']= (data_pandas['Poblacion']/data_pandas['Superficie'])\n",
    "data_pandas"
   ]
  },
  {
   "cell_type": "markdown",
   "metadata": {
    "id": "svpqtSdf1P3l"
   },
   "source": [
    "### 2.2 Filtrado por máscara.\n",
    "\n",
    "Lo que veremos a continuación es **muy importante**, ya que es una operación que haremos muchas veces. Su implementación es muy parecida tanto en NumPy como en Pandas, por lo que veremos cómo hacerlo primero en NumPy luego en Pandas.\n",
    "\n",
    "Supongamos que hacemos 50 tiradas de un dado, como hicimos en la sección anterior, pero queremos seleccionar solamente aquellas tiradas que fueron menores que cuatro. ¿Cómo podemos hacerlo?"
   ]
  },
  {
   "cell_type": "code",
   "execution_count": 10,
   "metadata": {
    "id": "w5IZFKI_1P3o"
   },
   "outputs": [
    {
     "name": "stdout",
     "output_type": "stream",
     "text": [
      "[1 2 5 4 1 4 2 6 1 5 3 4 5 3 4 1 3 5 1 6 6 3 1 3 5 4 2 2 4 1 5 2 5 1 5 1 6\n",
      " 4 1 6 2 3 1 6 6 2 3 5 1 6]\n"
     ]
    }
   ],
   "source": [
    "muestras_dado = np.random.randint(1,7, size = 50)\n",
    "print(muestras_dado)"
   ]
  },
  {
   "cell_type": "markdown",
   "metadata": {
    "id": "0QEABcgZ1P3y"
   },
   "source": [
    "Lo que podemos hacer es crear una máscara:"
   ]
  },
  {
   "cell_type": "code",
   "execution_count": 11,
   "metadata": {
    "id": "STxwWNOi1P32"
   },
   "outputs": [
    {
     "name": "stdout",
     "output_type": "stream",
     "text": [
      "[ True  True False False  True False  True False  True False  True False\n",
      " False  True False  True  True False  True False False  True  True  True\n",
      " False False  True  True False  True False  True False  True False  True\n",
      " False False  True False  True  True  True False False  True  True False\n",
      "  True False]\n",
      "<class 'numpy.ndarray'>\n"
     ]
    }
   ],
   "source": [
    "mascara = muestras_dado < 4\n",
    "print(mascara)\n",
    "print(type(mascara))"
   ]
  },
  {
   "cell_type": "markdown",
   "metadata": {
    "id": "IuAkOYoe1P4B"
   },
   "source": [
    "Notar que `mascara` es un arreglo de booleanos, con `True` en los valores que cumplen la condición y `False` donde no. Una vez que creamos la máscara, podemos usarla para seleccionar de nuestro arreglo aquellos elementos que queríamos:"
   ]
  },
  {
   "cell_type": "code",
   "execution_count": 12,
   "metadata": {
    "id": "Cw8ZM97f1P4D"
   },
   "outputs": [
    {
     "name": "stdout",
     "output_type": "stream",
     "text": [
      "[1 2 1 2 1 3 3 1 3 1 3 1 3 2 2 1 2 1 1 1 2 3 1 2 3 1]\n"
     ]
    }
   ],
   "source": [
    "print(muestras_dado[mascara])"
   ]
  },
  {
   "cell_type": "markdown",
   "metadata": {
    "id": "0rjN7J3A1P4M"
   },
   "source": [
    "Notar que con `mascara.sum()` podemos contar cuántas veces se cumple la condición que pedimos."
   ]
  },
  {
   "cell_type": "code",
   "execution_count": 13,
   "metadata": {
    "id": "cUHV-_OC1P4Q"
   },
   "outputs": [
    {
     "name": "stdout",
     "output_type": "stream",
     "text": [
      "26\n"
     ]
    }
   ],
   "source": [
    "print(mascara.sum())"
   ]
  },
  {
   "cell_type": "markdown",
   "metadata": {
    "id": "UosUz_mI1P4X"
   },
   "source": [
    "A veces, podemos hacerlo en una sola línea. Supongamos que queremos aquellas tiradas donde salió seis:"
   ]
  },
  {
   "cell_type": "code",
   "execution_count": 45,
   "metadata": {
    "id": "do9s_9vn1P4Y"
   },
   "outputs": [
    {
     "name": "stdout",
     "output_type": "stream",
     "text": [
      "[6 6 6 6 6 6]\n"
     ]
    }
   ],
   "source": [
    "print(muestras_dado[muestras_dado == 6])"
   ]
  },
  {
   "cell_type": "markdown",
   "metadata": {
    "id": "ZI1fVYFf1P4g"
   },
   "source": [
    "**En Pandas**\n",
    "\n",
    "Supongamos que queremos seleccionar aquellas jurisdicciones cuya población sea mayor a un millón de habitantes. Podemos hacerlo de la siguiente forma:"
   ]
  },
  {
   "cell_type": "code",
   "execution_count": 14,
   "metadata": {
    "id": "n2sWVVBz1P4i"
   },
   "outputs": [
    {
     "data": {
      "text/html": [
       "<div>\n",
       "<style scoped>\n",
       "    .dataframe tbody tr th:only-of-type {\n",
       "        vertical-align: middle;\n",
       "    }\n",
       "\n",
       "    .dataframe tbody tr th {\n",
       "        vertical-align: top;\n",
       "    }\n",
       "\n",
       "    .dataframe thead th {\n",
       "        text-align: right;\n",
       "    }\n",
       "</style>\n",
       "<table border=\"1\" class=\"dataframe\">\n",
       "  <thead>\n",
       "    <tr style=\"text-align: right;\">\n",
       "      <th></th>\n",
       "      <th>Jurisdiccion</th>\n",
       "      <th>Poblacion</th>\n",
       "      <th>Superficie</th>\n",
       "      <th>Densidad Jurisdiccion</th>\n",
       "    </tr>\n",
       "  </thead>\n",
       "  <tbody>\n",
       "    <tr>\n",
       "      <th>0</th>\n",
       "      <td>CABA</td>\n",
       "      <td>2890151</td>\n",
       "      <td>200</td>\n",
       "      <td>14450.755</td>\n",
       "    </tr>\n",
       "  </tbody>\n",
       "</table>\n",
       "</div>"
      ],
      "text/plain": [
       "  Jurisdiccion  Poblacion  Superficie  Densidad Jurisdiccion\n",
       "0         CABA    2890151         200              14450.755"
      ]
     },
     "execution_count": 14,
     "metadata": {},
     "output_type": "execute_result"
    }
   ],
   "source": [
    "data_pandas[data_pandas.Jurisdiccion == 'CABA']"
   ]
  },
  {
   "cell_type": "markdown",
   "metadata": {
    "id": "pZo21ebL1P5G"
   },
   "source": [
    "¿Y si queremos seleccionar aquellas jurisdicciones cuya población sea mayor a un millón de habitantes **y** su superficie menor a cien mil km2?"
   ]
  },
  {
   "cell_type": "code",
   "execution_count": 47,
   "metadata": {
    "id": "Gia9i3AB1P5L"
   },
   "outputs": [
    {
     "data": {
      "text/html": [
       "<div>\n",
       "<style scoped>\n",
       "    .dataframe tbody tr th:only-of-type {\n",
       "        vertical-align: middle;\n",
       "    }\n",
       "\n",
       "    .dataframe tbody tr th {\n",
       "        vertical-align: top;\n",
       "    }\n",
       "\n",
       "    .dataframe thead th {\n",
       "        text-align: right;\n",
       "    }\n",
       "</style>\n",
       "<table border=\"1\" class=\"dataframe\">\n",
       "  <thead>\n",
       "    <tr style=\"text-align: right;\">\n",
       "      <th></th>\n",
       "      <th>Jurisdiccion</th>\n",
       "      <th>Poblacion</th>\n",
       "      <th>Superficie</th>\n",
       "      <th>Densidad Jurisdiccion</th>\n",
       "    </tr>\n",
       "  </thead>\n",
       "  <tbody>\n",
       "    <tr>\n",
       "      <th>0</th>\n",
       "      <td>CABA</td>\n",
       "      <td>2890151</td>\n",
       "      <td>200</td>\n",
       "      <td>14450.755000</td>\n",
       "    </tr>\n",
       "    <tr>\n",
       "      <th>3</th>\n",
       "      <td>Chaco</td>\n",
       "      <td>1055259</td>\n",
       "      <td>99633</td>\n",
       "      <td>10.591461</td>\n",
       "    </tr>\n",
       "    <tr>\n",
       "      <th>8</th>\n",
       "      <td>Misiones</td>\n",
       "      <td>1101593</td>\n",
       "      <td>29801</td>\n",
       "      <td>36.964968</td>\n",
       "    </tr>\n",
       "  </tbody>\n",
       "</table>\n",
       "</div>"
      ],
      "text/plain": [
       "  Jurisdiccion  Poblacion  Superficie  Densidad Jurisdiccion\n",
       "0         CABA    2890151         200           14450.755000\n",
       "3        Chaco    1055259       99633              10.591461\n",
       "8     Misiones    1101593       29801              36.964968"
      ]
     },
     "execution_count": 47,
     "metadata": {},
     "output_type": "execute_result"
    }
   ],
   "source": [
    "mascara = np.logical_and(data_pandas.Poblacion > 1000000, data_pandas.Superficie < 100000)\n",
    "data_pandas[mascara]\n",
    "\n",
    "### Es equivalente\n",
    "# data_pandas[(data_pandas.Poblacion > 1000000) & (data_pandas.Superficie < 100000)]"
   ]
  },
  {
   "cell_type": "markdown",
   "metadata": {
    "id": "Z057NM351P5W"
   },
   "source": [
    "**Ejercicio:** seleccionar aquellas jurisdicciones cuya población sea menor a 500 mil habitantes **o** su superficie mayor a cien mil km2."
   ]
  },
  {
   "cell_type": "code",
   "execution_count": 48,
   "metadata": {
    "id": "EWJwPrS61P5Z"
   },
   "outputs": [
    {
     "data": {
      "text/html": [
       "<div>\n",
       "<style scoped>\n",
       "    .dataframe tbody tr th:only-of-type {\n",
       "        vertical-align: middle;\n",
       "    }\n",
       "\n",
       "    .dataframe tbody tr th {\n",
       "        vertical-align: top;\n",
       "    }\n",
       "\n",
       "    .dataframe thead th {\n",
       "        text-align: right;\n",
       "    }\n",
       "</style>\n",
       "<table border=\"1\" class=\"dataframe\">\n",
       "  <thead>\n",
       "    <tr style=\"text-align: right;\">\n",
       "      <th></th>\n",
       "      <th>Jurisdiccion</th>\n",
       "      <th>Poblacion</th>\n",
       "      <th>Superficie</th>\n",
       "      <th>Densidad Jurisdiccion</th>\n",
       "    </tr>\n",
       "  </thead>\n",
       "  <tbody>\n",
       "    <tr>\n",
       "      <th>1</th>\n",
       "      <td>Buenos Aires</td>\n",
       "      <td>15625084</td>\n",
       "      <td>307521</td>\n",
       "      <td>50.809811</td>\n",
       "    </tr>\n",
       "    <tr>\n",
       "      <th>2</th>\n",
       "      <td>Catamarca</td>\n",
       "      <td>367828</td>\n",
       "      <td>102606</td>\n",
       "      <td>3.584859</td>\n",
       "    </tr>\n",
       "    <tr>\n",
       "      <th>4</th>\n",
       "      <td>Chubut</td>\n",
       "      <td>509108</td>\n",
       "      <td>509108</td>\n",
       "      <td>1.000000</td>\n",
       "    </tr>\n",
       "    <tr>\n",
       "      <th>5</th>\n",
       "      <td>Córdoba</td>\n",
       "      <td>3308876</td>\n",
       "      <td>165321</td>\n",
       "      <td>20.014856</td>\n",
       "    </tr>\n",
       "    <tr>\n",
       "      <th>7</th>\n",
       "      <td>Mendoza</td>\n",
       "      <td>1738929</td>\n",
       "      <td>148827</td>\n",
       "      <td>11.684231</td>\n",
       "    </tr>\n",
       "    <tr>\n",
       "      <th>9</th>\n",
       "      <td>Río Negro</td>\n",
       "      <td>638645</td>\n",
       "      <td>203013</td>\n",
       "      <td>3.145833</td>\n",
       "    </tr>\n",
       "    <tr>\n",
       "      <th>10</th>\n",
       "      <td>Santa Cruz</td>\n",
       "      <td>273964</td>\n",
       "      <td>243943</td>\n",
       "      <td>1.123066</td>\n",
       "    </tr>\n",
       "    <tr>\n",
       "      <th>11</th>\n",
       "      <td>Santa Fe</td>\n",
       "      <td>3194537</td>\n",
       "      <td>133007</td>\n",
       "      <td>24.017811</td>\n",
       "    </tr>\n",
       "    <tr>\n",
       "      <th>12</th>\n",
       "      <td>San Luis</td>\n",
       "      <td>432310</td>\n",
       "      <td>77748</td>\n",
       "      <td>5.560400</td>\n",
       "    </tr>\n",
       "  </tbody>\n",
       "</table>\n",
       "</div>"
      ],
      "text/plain": [
       "    Jurisdiccion  Poblacion  Superficie  Densidad Jurisdiccion\n",
       "1   Buenos Aires   15625084      307521              50.809811\n",
       "2      Catamarca     367828      102606               3.584859\n",
       "4         Chubut     509108      509108               1.000000\n",
       "5        Córdoba    3308876      165321              20.014856\n",
       "7        Mendoza    1738929      148827              11.684231\n",
       "9      Río Negro     638645      203013               3.145833\n",
       "10    Santa Cruz     273964      243943               1.123066\n",
       "11      Santa Fe    3194537      133007              24.017811\n",
       "12      San Luis     432310       77748               5.560400"
      ]
     },
     "execution_count": 48,
     "metadata": {},
     "output_type": "execute_result"
    }
   ],
   "source": [
    "# COMPLETAR\n",
    "mascara_2= np.logical_or(data_pandas.Poblacion < 500000, data_pandas.Superficie > 100000)\n",
    "data_pandas[mascara_2]"
   ]
  },
  {
   "cell_type": "markdown",
   "metadata": {
    "id": "H1nzSLbJ1P5g"
   },
   "source": [
    "## 2.3 Iris dataset\n",
    "\n",
    "¿Pero siempre vamos a tener que crear un diccionario y luego pasarlo a un Data Frame? Evidentemente, esta opción no parece muy cómoda, en particular para conjuntos de datos de gran volumen. Veamos cómo trabajamos con un conjunto de datos preexistente.\n",
    "\n",
    "\n",
    "**Aviso**: Esta sección es, en realidad, un ejercicio. Para hacerlo, debes ir googleando y consultando la documentación que consideres apropiada. Obviamente, también puedes consultar a tu mentor/a.\n",
    "\n",
    "Vamos a trabajar con el Iris Dataset, probablemente uno de los conjuntos de datos más famosos, ya que muchos ejemplos se realizan con él. Es un dataset sencillo pero ilustrativo.\n",
    "\n",
    "\n",
    "1. Abrir con Pandas el archivo 'DS_Bitácora_04_iris.csv' (¿Qué tipo de archivo es?) e imprimir sus primeros cinco elementos. Pista: `pd.read...()`."
   ]
  },
  {
   "cell_type": "code",
   "execution_count": 20,
   "metadata": {
    "id": "c6WItGqC1P5i"
   },
   "outputs": [
    {
     "data": {
      "text/html": [
       "<div>\n",
       "<style scoped>\n",
       "    .dataframe tbody tr th:only-of-type {\n",
       "        vertical-align: middle;\n",
       "    }\n",
       "\n",
       "    .dataframe tbody tr th {\n",
       "        vertical-align: top;\n",
       "    }\n",
       "\n",
       "    .dataframe thead th {\n",
       "        text-align: right;\n",
       "    }\n",
       "</style>\n",
       "<table border=\"1\" class=\"dataframe\">\n",
       "  <thead>\n",
       "    <tr style=\"text-align: right;\">\n",
       "      <th></th>\n",
       "      <th>Id</th>\n",
       "      <th>SepalLengthCm</th>\n",
       "      <th>SepalWidthCm</th>\n",
       "      <th>PetalLengthCm</th>\n",
       "      <th>PetalWidthCm</th>\n",
       "      <th>Species</th>\n",
       "    </tr>\n",
       "  </thead>\n",
       "  <tbody>\n",
       "    <tr>\n",
       "      <th>0</th>\n",
       "      <td>1</td>\n",
       "      <td>5.1</td>\n",
       "      <td>3.5</td>\n",
       "      <td>1.4</td>\n",
       "      <td>0.2</td>\n",
       "      <td>Iris-setosa</td>\n",
       "    </tr>\n",
       "    <tr>\n",
       "      <th>1</th>\n",
       "      <td>2</td>\n",
       "      <td>4.9</td>\n",
       "      <td>3.0</td>\n",
       "      <td>1.4</td>\n",
       "      <td>0.2</td>\n",
       "      <td>Iris-setosa</td>\n",
       "    </tr>\n",
       "    <tr>\n",
       "      <th>2</th>\n",
       "      <td>3</td>\n",
       "      <td>4.7</td>\n",
       "      <td>3.2</td>\n",
       "      <td>1.3</td>\n",
       "      <td>0.2</td>\n",
       "      <td>Iris-setosa</td>\n",
       "    </tr>\n",
       "    <tr>\n",
       "      <th>3</th>\n",
       "      <td>4</td>\n",
       "      <td>4.6</td>\n",
       "      <td>3.1</td>\n",
       "      <td>1.5</td>\n",
       "      <td>0.2</td>\n",
       "      <td>Iris-setosa</td>\n",
       "    </tr>\n",
       "    <tr>\n",
       "      <th>4</th>\n",
       "      <td>5</td>\n",
       "      <td>5.0</td>\n",
       "      <td>3.6</td>\n",
       "      <td>1.4</td>\n",
       "      <td>0.2</td>\n",
       "      <td>Iris-setosa</td>\n",
       "    </tr>\n",
       "    <tr>\n",
       "      <th>...</th>\n",
       "      <td>...</td>\n",
       "      <td>...</td>\n",
       "      <td>...</td>\n",
       "      <td>...</td>\n",
       "      <td>...</td>\n",
       "      <td>...</td>\n",
       "    </tr>\n",
       "    <tr>\n",
       "      <th>145</th>\n",
       "      <td>146</td>\n",
       "      <td>6.7</td>\n",
       "      <td>3.0</td>\n",
       "      <td>5.2</td>\n",
       "      <td>2.3</td>\n",
       "      <td>Iris-virginica</td>\n",
       "    </tr>\n",
       "    <tr>\n",
       "      <th>146</th>\n",
       "      <td>147</td>\n",
       "      <td>6.3</td>\n",
       "      <td>2.5</td>\n",
       "      <td>5.0</td>\n",
       "      <td>1.9</td>\n",
       "      <td>Iris-virginica</td>\n",
       "    </tr>\n",
       "    <tr>\n",
       "      <th>147</th>\n",
       "      <td>148</td>\n",
       "      <td>6.5</td>\n",
       "      <td>3.0</td>\n",
       "      <td>5.2</td>\n",
       "      <td>2.0</td>\n",
       "      <td>Iris-virginica</td>\n",
       "    </tr>\n",
       "    <tr>\n",
       "      <th>148</th>\n",
       "      <td>149</td>\n",
       "      <td>6.2</td>\n",
       "      <td>3.4</td>\n",
       "      <td>5.4</td>\n",
       "      <td>2.3</td>\n",
       "      <td>Iris-virginica</td>\n",
       "    </tr>\n",
       "    <tr>\n",
       "      <th>149</th>\n",
       "      <td>150</td>\n",
       "      <td>5.9</td>\n",
       "      <td>3.0</td>\n",
       "      <td>5.1</td>\n",
       "      <td>1.8</td>\n",
       "      <td>Iris-virginica</td>\n",
       "    </tr>\n",
       "  </tbody>\n",
       "</table>\n",
       "<p>150 rows × 6 columns</p>\n",
       "</div>"
      ],
      "text/plain": [
       "      Id  SepalLengthCm  SepalWidthCm  PetalLengthCm  PetalWidthCm  \\\n",
       "0      1            5.1           3.5            1.4           0.2   \n",
       "1      2            4.9           3.0            1.4           0.2   \n",
       "2      3            4.7           3.2            1.3           0.2   \n",
       "3      4            4.6           3.1            1.5           0.2   \n",
       "4      5            5.0           3.6            1.4           0.2   \n",
       "..   ...            ...           ...            ...           ...   \n",
       "145  146            6.7           3.0            5.2           2.3   \n",
       "146  147            6.3           2.5            5.0           1.9   \n",
       "147  148            6.5           3.0            5.2           2.0   \n",
       "148  149            6.2           3.4            5.4           2.3   \n",
       "149  150            5.9           3.0            5.1           1.8   \n",
       "\n",
       "            Species  \n",
       "0       Iris-setosa  \n",
       "1       Iris-setosa  \n",
       "2       Iris-setosa  \n",
       "3       Iris-setosa  \n",
       "4       Iris-setosa  \n",
       "..              ...  \n",
       "145  Iris-virginica  \n",
       "146  Iris-virginica  \n",
       "147  Iris-virginica  \n",
       "148  Iris-virginica  \n",
       "149  Iris-virginica  \n",
       "\n",
       "[150 rows x 6 columns]"
      ]
     },
     "execution_count": 20,
     "metadata": {},
     "output_type": "execute_result"
    }
   ],
   "source": [
    "# COMPLETAR\n",
    "df= pd.read_csv('ds_04_iris.csv')\n",
    "df"
   ]
  },
  {
   "cell_type": "code",
   "execution_count": 57,
   "metadata": {},
   "outputs": [
    {
     "data": {
      "text/html": [
       "<div>\n",
       "<style scoped>\n",
       "    .dataframe tbody tr th:only-of-type {\n",
       "        vertical-align: middle;\n",
       "    }\n",
       "\n",
       "    .dataframe tbody tr th {\n",
       "        vertical-align: top;\n",
       "    }\n",
       "\n",
       "    .dataframe thead th {\n",
       "        text-align: right;\n",
       "    }\n",
       "</style>\n",
       "<table border=\"1\" class=\"dataframe\">\n",
       "  <thead>\n",
       "    <tr style=\"text-align: right;\">\n",
       "      <th></th>\n",
       "      <th>Id</th>\n",
       "      <th>SepalLengthCm</th>\n",
       "      <th>SepalWidthCm</th>\n",
       "      <th>PetalLengthCm</th>\n",
       "      <th>PetalWidthCm</th>\n",
       "      <th>Species</th>\n",
       "    </tr>\n",
       "  </thead>\n",
       "  <tbody>\n",
       "    <tr>\n",
       "      <th>0</th>\n",
       "      <td>1</td>\n",
       "      <td>5.1</td>\n",
       "      <td>3.5</td>\n",
       "      <td>1.4</td>\n",
       "      <td>0.2</td>\n",
       "      <td>Iris-setosa</td>\n",
       "    </tr>\n",
       "    <tr>\n",
       "      <th>1</th>\n",
       "      <td>2</td>\n",
       "      <td>4.9</td>\n",
       "      <td>3.0</td>\n",
       "      <td>1.4</td>\n",
       "      <td>0.2</td>\n",
       "      <td>Iris-setosa</td>\n",
       "    </tr>\n",
       "    <tr>\n",
       "      <th>2</th>\n",
       "      <td>3</td>\n",
       "      <td>4.7</td>\n",
       "      <td>3.2</td>\n",
       "      <td>1.3</td>\n",
       "      <td>0.2</td>\n",
       "      <td>Iris-setosa</td>\n",
       "    </tr>\n",
       "    <tr>\n",
       "      <th>3</th>\n",
       "      <td>4</td>\n",
       "      <td>4.6</td>\n",
       "      <td>3.1</td>\n",
       "      <td>1.5</td>\n",
       "      <td>0.2</td>\n",
       "      <td>Iris-setosa</td>\n",
       "    </tr>\n",
       "    <tr>\n",
       "      <th>4</th>\n",
       "      <td>5</td>\n",
       "      <td>5.0</td>\n",
       "      <td>3.6</td>\n",
       "      <td>1.4</td>\n",
       "      <td>0.2</td>\n",
       "      <td>Iris-setosa</td>\n",
       "    </tr>\n",
       "  </tbody>\n",
       "</table>\n",
       "</div>"
      ],
      "text/plain": [
       "   Id  SepalLengthCm  SepalWidthCm  PetalLengthCm  PetalWidthCm      Species\n",
       "0   1            5.1           3.5            1.4           0.2  Iris-setosa\n",
       "1   2            4.9           3.0            1.4           0.2  Iris-setosa\n",
       "2   3            4.7           3.2            1.3           0.2  Iris-setosa\n",
       "3   4            4.6           3.1            1.5           0.2  Iris-setosa\n",
       "4   5            5.0           3.6            1.4           0.2  Iris-setosa"
      ]
     },
     "execution_count": 57,
     "metadata": {},
     "output_type": "execute_result"
    }
   ],
   "source": [
    "df.head(5)"
   ]
  },
  {
   "cell_type": "markdown",
   "metadata": {
    "id": "IcsJiYe31P5p"
   },
   "source": [
    "2. ¿Cuántas columnas (features) tiene?¿Cuáles son sus nombres?¿Y cuántas filas (instancias)? Pistas: `shape`, `columns`."
   ]
  },
  {
   "cell_type": "code",
   "execution_count": 61,
   "metadata": {
    "id": "BqDWhNM51P5r"
   },
   "outputs": [
    {
     "data": {
      "text/plain": [
       "Index(['Id', 'SepalLengthCm', 'SepalWidthCm', 'PetalLengthCm', 'PetalWidthCm',\n",
       "       'Species'],\n",
       "      dtype='object')"
      ]
     },
     "execution_count": 61,
     "metadata": {},
     "output_type": "execute_result"
    }
   ],
   "source": [
    "# COMPLETAR\n",
    "df.columns\n"
   ]
  },
  {
   "cell_type": "code",
   "execution_count": 63,
   "metadata": {},
   "outputs": [
    {
     "data": {
      "text/plain": [
       "(150, 6)"
      ]
     },
     "execution_count": 63,
     "metadata": {},
     "output_type": "execute_result"
    }
   ],
   "source": [
    "df.shape"
   ]
  },
  {
   "cell_type": "markdown",
   "metadata": {
    "id": "LnO-Yoyh1P50"
   },
   "source": [
    "3. Obtener el valor medio y desviación estándar de cada columna. ¿Hay alguna función de Pandas que nos dé aún más estadísticos? Pistas: `describe`."
   ]
  },
  {
   "cell_type": "code",
   "execution_count": 65,
   "metadata": {
    "id": "wTPFg2yT1P52"
   },
   "outputs": [
    {
     "name": "stdout",
     "output_type": "stream",
     "text": [
      "Id               75.500000\n",
      "SepalLengthCm     5.843333\n",
      "SepalWidthCm      3.054000\n",
      "PetalLengthCm     3.758667\n",
      "PetalWidthCm      1.198667\n",
      "dtype: float64\n",
      "Id               1887.500000\n",
      "SepalLengthCm       0.685694\n",
      "SepalWidthCm        0.188004\n",
      "PetalLengthCm       3.113179\n",
      "PetalWidthCm        0.582414\n",
      "dtype: float64\n",
      "Id               43.445368\n",
      "SepalLengthCm     0.828066\n",
      "SepalWidthCm      0.433594\n",
      "PetalLengthCm     1.764420\n",
      "PetalWidthCm      0.763161\n",
      "dtype: float64\n"
     ]
    }
   ],
   "source": [
    "# COMPLETAR\n",
    "print(df.mean())\n",
    "print(df.var(ddof = 1))\n",
    "\n",
    "# Desviación estándar\n",
    "print(df.std(ddof = 1))"
   ]
  },
  {
   "cell_type": "code",
   "execution_count": 69,
   "metadata": {},
   "outputs": [
    {
     "data": {
      "text/html": [
       "<div>\n",
       "<style scoped>\n",
       "    .dataframe tbody tr th:only-of-type {\n",
       "        vertical-align: middle;\n",
       "    }\n",
       "\n",
       "    .dataframe tbody tr th {\n",
       "        vertical-align: top;\n",
       "    }\n",
       "\n",
       "    .dataframe thead th {\n",
       "        text-align: right;\n",
       "    }\n",
       "</style>\n",
       "<table border=\"1\" class=\"dataframe\">\n",
       "  <thead>\n",
       "    <tr style=\"text-align: right;\">\n",
       "      <th></th>\n",
       "      <th>Id</th>\n",
       "      <th>SepalLengthCm</th>\n",
       "      <th>SepalWidthCm</th>\n",
       "      <th>PetalLengthCm</th>\n",
       "      <th>PetalWidthCm</th>\n",
       "    </tr>\n",
       "  </thead>\n",
       "  <tbody>\n",
       "    <tr>\n",
       "      <th>count</th>\n",
       "      <td>150.000000</td>\n",
       "      <td>150.000000</td>\n",
       "      <td>150.000000</td>\n",
       "      <td>150.000000</td>\n",
       "      <td>150.000000</td>\n",
       "    </tr>\n",
       "    <tr>\n",
       "      <th>mean</th>\n",
       "      <td>75.500000</td>\n",
       "      <td>5.843333</td>\n",
       "      <td>3.054000</td>\n",
       "      <td>3.758667</td>\n",
       "      <td>1.198667</td>\n",
       "    </tr>\n",
       "    <tr>\n",
       "      <th>std</th>\n",
       "      <td>43.445368</td>\n",
       "      <td>0.828066</td>\n",
       "      <td>0.433594</td>\n",
       "      <td>1.764420</td>\n",
       "      <td>0.763161</td>\n",
       "    </tr>\n",
       "    <tr>\n",
       "      <th>min</th>\n",
       "      <td>1.000000</td>\n",
       "      <td>4.300000</td>\n",
       "      <td>2.000000</td>\n",
       "      <td>1.000000</td>\n",
       "      <td>0.100000</td>\n",
       "    </tr>\n",
       "    <tr>\n",
       "      <th>25%</th>\n",
       "      <td>38.250000</td>\n",
       "      <td>5.100000</td>\n",
       "      <td>2.800000</td>\n",
       "      <td>1.600000</td>\n",
       "      <td>0.300000</td>\n",
       "    </tr>\n",
       "    <tr>\n",
       "      <th>50%</th>\n",
       "      <td>75.500000</td>\n",
       "      <td>5.800000</td>\n",
       "      <td>3.000000</td>\n",
       "      <td>4.350000</td>\n",
       "      <td>1.300000</td>\n",
       "    </tr>\n",
       "    <tr>\n",
       "      <th>75%</th>\n",
       "      <td>112.750000</td>\n",
       "      <td>6.400000</td>\n",
       "      <td>3.300000</td>\n",
       "      <td>5.100000</td>\n",
       "      <td>1.800000</td>\n",
       "    </tr>\n",
       "    <tr>\n",
       "      <th>max</th>\n",
       "      <td>150.000000</td>\n",
       "      <td>7.900000</td>\n",
       "      <td>4.400000</td>\n",
       "      <td>6.900000</td>\n",
       "      <td>2.500000</td>\n",
       "    </tr>\n",
       "  </tbody>\n",
       "</table>\n",
       "</div>"
      ],
      "text/plain": [
       "               Id  SepalLengthCm  SepalWidthCm  PetalLengthCm  PetalWidthCm\n",
       "count  150.000000     150.000000    150.000000     150.000000    150.000000\n",
       "mean    75.500000       5.843333      3.054000       3.758667      1.198667\n",
       "std     43.445368       0.828066      0.433594       1.764420      0.763161\n",
       "min      1.000000       4.300000      2.000000       1.000000      0.100000\n",
       "25%     38.250000       5.100000      2.800000       1.600000      0.300000\n",
       "50%     75.500000       5.800000      3.000000       4.350000      1.300000\n",
       "75%    112.750000       6.400000      3.300000       5.100000      1.800000\n",
       "max    150.000000       7.900000      4.400000       6.900000      2.500000"
      ]
     },
     "execution_count": 69,
     "metadata": {},
     "output_type": "execute_result"
    }
   ],
   "source": [
    "df.describe ()"
   ]
  },
  {
   "cell_type": "markdown",
   "metadata": {
    "id": "h0hQVgt21P58"
   },
   "source": [
    "4. ¿Creen que todas las columnas tienen información? *Tirar* la columna que crean que está demás. Dependiendo de la función que uses - hay más de una opción -, tal vez tengas que prestar **mucha** atención al argumento `inplace`. Pista: `drop`, `del`."
   ]
  },
  {
   "cell_type": "code",
   "execution_count": 23,
   "metadata": {
    "id": "FMWb9yIz1P5_"
   },
   "outputs": [],
   "source": [
    "# COMPLETAR\n",
    "df_2= df.drop(columns=['Id'], inplace=False)"
   ]
  },
  {
   "cell_type": "code",
   "execution_count": 22,
   "metadata": {},
   "outputs": [
    {
     "data": {
      "text/html": [
       "<div>\n",
       "<style scoped>\n",
       "    .dataframe tbody tr th:only-of-type {\n",
       "        vertical-align: middle;\n",
       "    }\n",
       "\n",
       "    .dataframe tbody tr th {\n",
       "        vertical-align: top;\n",
       "    }\n",
       "\n",
       "    .dataframe thead th {\n",
       "        text-align: right;\n",
       "    }\n",
       "</style>\n",
       "<table border=\"1\" class=\"dataframe\">\n",
       "  <thead>\n",
       "    <tr style=\"text-align: right;\">\n",
       "      <th></th>\n",
       "      <th>Id</th>\n",
       "      <th>SepalLengthCm</th>\n",
       "      <th>SepalWidthCm</th>\n",
       "      <th>PetalLengthCm</th>\n",
       "      <th>PetalWidthCm</th>\n",
       "      <th>Species</th>\n",
       "    </tr>\n",
       "  </thead>\n",
       "  <tbody>\n",
       "    <tr>\n",
       "      <th>0</th>\n",
       "      <td>1</td>\n",
       "      <td>5.1</td>\n",
       "      <td>3.5</td>\n",
       "      <td>1.4</td>\n",
       "      <td>0.2</td>\n",
       "      <td>Iris-setosa</td>\n",
       "    </tr>\n",
       "    <tr>\n",
       "      <th>1</th>\n",
       "      <td>2</td>\n",
       "      <td>4.9</td>\n",
       "      <td>3.0</td>\n",
       "      <td>1.4</td>\n",
       "      <td>0.2</td>\n",
       "      <td>Iris-setosa</td>\n",
       "    </tr>\n",
       "    <tr>\n",
       "      <th>2</th>\n",
       "      <td>3</td>\n",
       "      <td>4.7</td>\n",
       "      <td>3.2</td>\n",
       "      <td>1.3</td>\n",
       "      <td>0.2</td>\n",
       "      <td>Iris-setosa</td>\n",
       "    </tr>\n",
       "    <tr>\n",
       "      <th>3</th>\n",
       "      <td>4</td>\n",
       "      <td>4.6</td>\n",
       "      <td>3.1</td>\n",
       "      <td>1.5</td>\n",
       "      <td>0.2</td>\n",
       "      <td>Iris-setosa</td>\n",
       "    </tr>\n",
       "    <tr>\n",
       "      <th>4</th>\n",
       "      <td>5</td>\n",
       "      <td>5.0</td>\n",
       "      <td>3.6</td>\n",
       "      <td>1.4</td>\n",
       "      <td>0.2</td>\n",
       "      <td>Iris-setosa</td>\n",
       "    </tr>\n",
       "    <tr>\n",
       "      <th>...</th>\n",
       "      <td>...</td>\n",
       "      <td>...</td>\n",
       "      <td>...</td>\n",
       "      <td>...</td>\n",
       "      <td>...</td>\n",
       "      <td>...</td>\n",
       "    </tr>\n",
       "    <tr>\n",
       "      <th>145</th>\n",
       "      <td>146</td>\n",
       "      <td>6.7</td>\n",
       "      <td>3.0</td>\n",
       "      <td>5.2</td>\n",
       "      <td>2.3</td>\n",
       "      <td>Iris-virginica</td>\n",
       "    </tr>\n",
       "    <tr>\n",
       "      <th>146</th>\n",
       "      <td>147</td>\n",
       "      <td>6.3</td>\n",
       "      <td>2.5</td>\n",
       "      <td>5.0</td>\n",
       "      <td>1.9</td>\n",
       "      <td>Iris-virginica</td>\n",
       "    </tr>\n",
       "    <tr>\n",
       "      <th>147</th>\n",
       "      <td>148</td>\n",
       "      <td>6.5</td>\n",
       "      <td>3.0</td>\n",
       "      <td>5.2</td>\n",
       "      <td>2.0</td>\n",
       "      <td>Iris-virginica</td>\n",
       "    </tr>\n",
       "    <tr>\n",
       "      <th>148</th>\n",
       "      <td>149</td>\n",
       "      <td>6.2</td>\n",
       "      <td>3.4</td>\n",
       "      <td>5.4</td>\n",
       "      <td>2.3</td>\n",
       "      <td>Iris-virginica</td>\n",
       "    </tr>\n",
       "    <tr>\n",
       "      <th>149</th>\n",
       "      <td>150</td>\n",
       "      <td>5.9</td>\n",
       "      <td>3.0</td>\n",
       "      <td>5.1</td>\n",
       "      <td>1.8</td>\n",
       "      <td>Iris-virginica</td>\n",
       "    </tr>\n",
       "  </tbody>\n",
       "</table>\n",
       "<p>150 rows × 6 columns</p>\n",
       "</div>"
      ],
      "text/plain": [
       "      Id  SepalLengthCm  SepalWidthCm  PetalLengthCm  PetalWidthCm  \\\n",
       "0      1            5.1           3.5            1.4           0.2   \n",
       "1      2            4.9           3.0            1.4           0.2   \n",
       "2      3            4.7           3.2            1.3           0.2   \n",
       "3      4            4.6           3.1            1.5           0.2   \n",
       "4      5            5.0           3.6            1.4           0.2   \n",
       "..   ...            ...           ...            ...           ...   \n",
       "145  146            6.7           3.0            5.2           2.3   \n",
       "146  147            6.3           2.5            5.0           1.9   \n",
       "147  148            6.5           3.0            5.2           2.0   \n",
       "148  149            6.2           3.4            5.4           2.3   \n",
       "149  150            5.9           3.0            5.1           1.8   \n",
       "\n",
       "            Species  \n",
       "0       Iris-setosa  \n",
       "1       Iris-setosa  \n",
       "2       Iris-setosa  \n",
       "3       Iris-setosa  \n",
       "4       Iris-setosa  \n",
       "..              ...  \n",
       "145  Iris-virginica  \n",
       "146  Iris-virginica  \n",
       "147  Iris-virginica  \n",
       "148  Iris-virginica  \n",
       "149  Iris-virginica  \n",
       "\n",
       "[150 rows x 6 columns]"
      ]
     },
     "execution_count": 22,
     "metadata": {},
     "output_type": "execute_result"
    }
   ],
   "source": [
    "df"
   ]
  },
  {
   "cell_type": "markdown",
   "metadata": {
    "id": "xZc3ROA1uwsi"
   },
   "source": [
    "5. ¿Para qué sirven `loc` e `iloc`? Crea algunos ejemplos."
   ]
  },
  {
   "cell_type": "code",
   "execution_count": 77,
   "metadata": {
    "id": "o7t65DAn1P6H"
   },
   "outputs": [
    {
     "data": {
      "text/plain": [
       "5.1"
      ]
     },
     "execution_count": 77,
     "metadata": {},
     "output_type": "execute_result"
    }
   ],
   "source": [
    "### Para esto podemos usar el método .loc() que es para seleccionar por etiquetas o por los nombres de la columna.\n",
    "#### df.loc(1,'Id')\n",
    "### método .iloc() que sería par seleccionar la posición de la columna, por ejemplo\n",
    "### df.iloc [1,0]\n",
    "\n",
    "df.loc[0,'SepalLengthCm']"
   ]
  },
  {
   "cell_type": "code",
   "execution_count": 79,
   "metadata": {},
   "outputs": [
    {
     "data": {
      "text/plain": [
       "5.1"
      ]
     },
     "execution_count": 79,
     "metadata": {},
     "output_type": "execute_result"
    }
   ],
   "source": [
    "df.iloc[0,1]"
   ]
  },
  {
   "cell_type": "code",
   "execution_count": null,
   "metadata": {},
   "outputs": [],
   "source": []
  }
 ],
 "metadata": {
  "colab": {
   "collapsed_sections": [],
   "name": "Copia de DS_Bitácora_04_Estadística_y_Pandas.ipynb",
   "provenance": []
  },
  "kernelspec": {
   "display_name": "Python 3",
   "language": "python",
   "name": "python3"
  },
  "language_info": {
   "codemirror_mode": {
    "name": "ipython",
    "version": 3
   },
   "file_extension": ".py",
   "mimetype": "text/x-python",
   "name": "python",
   "nbconvert_exporter": "python",
   "pygments_lexer": "ipython3",
   "version": "3.9.1"
  }
 },
 "nbformat": 4,
 "nbformat_minor": 1
}
